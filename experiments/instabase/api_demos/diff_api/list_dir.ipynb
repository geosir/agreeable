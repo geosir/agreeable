{
 "cells": [
  {
   "cell_type": "code",
   "execution_count": 1,
   "metadata": {},
   "outputs": [
    {
     "name": "stdout",
     "output_type": "stream",
     "text": [
      "({u'has_more': False, u'status': u'OK', u'next_page_token': u'files/doc_A/out/process_files_helper/texts/', u'start_page_token': u'', u'nodes': [{u'path': u'files/doc_A/out/process_files_helper/correspondent-bank-details (1).pdf.ibocr', u'type': u'file', u'name': u'correspondent-bank-details (1).pdf.ibocr', u'full_path': u'sudeep/instabase-tutorials/fs/Instabase Drive/files/doc_A/out/process_files_helper/correspondent-bank-details (1).pdf.ibocr', u'metadata': {u'modified_timestamp': 1532501376, u'source_url': None, u'type': u'file', u'size': 125346}}, {u'path': u'files/doc_A/out/process_files_helper/generated', u'type': u'folder', u'name': u'generated', u'full_path': u'sudeep/instabase-tutorials/fs/Instabase Drive/files/doc_A/out/process_files_helper/generated', u'metadata': {u'modified_timestamp': 1532510017, u'source_url': None, u'type': u'folder', u'size': None}}, {u'path': u'files/doc_A/out/process_files_helper/images', u'type': u'folder', u'name': u'images', u'full_path': u'sudeep/instabase-tutorials/fs/Instabase Drive/files/doc_A/out/process_files_helper/images', u'metadata': {u'modified_timestamp': 1532510017, u'source_url': None, u'type': u'folder', u'size': None}}, {u'path': u'files/doc_A/out/process_files_helper/texts', u'type': u'folder', u'name': u'texts', u'full_path': u'sudeep/instabase-tutorials/fs/Instabase Drive/files/doc_A/out/process_files_helper/texts', u'metadata': {u'modified_timestamp': 1532510017, u'source_url': None, u'type': u'folder', u'size': None}}]}, None)\n"
     ]
    }
   ],
   "source": [
    "import requests\n",
    "import urllib\n",
    "import json\n",
    "import logging\n",
    "import time\n",
    "\n",
    "_uri = 'https://staging.instabase.com'\n",
    "api_prefix_local = 'http://localhost:5000/api/v1/drives'\n",
    "api_prefix = 'https://staging.instabase.com/api/v1/drives'\n",
    "_token = 'zr3NkK0axjXUrPEOAXB8k7TuNd79OV'\n",
    "\n",
    "\n",
    "def _list_dir(path):\n",
    "  data = dict(\n",
    "    type='folder',\n",
    "    get_content=True,\n",
    "    start_page_token='',\n",
    "    get_metadata=True,\n",
    "    recursive=True\n",
    "  )\n",
    "  headers = {\n",
    "    'Authorization': 'Bearer {0}'.format(_token),\n",
    "    'Instabase-API-Args': json.dumps(data)\n",
    "  }\n",
    "  r = requests.get(api_prefix+ '/' + path.lstrip('/'), headers=headers)\n",
    "  resp = r.json()\n",
    "  if resp.get('status') != 'OK':\n",
    "    return None, resp.get('msg')\n",
    "  return resp, None\n",
    "\n",
    "root = \"/sudeep/instabase-tutorials/fs/Instabase Drive/files/doc_A/out/process_files_helper\"\n",
    "resp = _list_dir(root)\n",
    "print(resp)\n",
    "pass"
   ]
  },
  {
   "cell_type": "code",
   "execution_count": null,
   "metadata": {},
   "outputs": [],
   "source": []
  }
 ],
 "metadata": {
  "kernelspec": {
   "display_name": "Python 2",
   "language": "python",
   "name": "python2"
  },
  "language_info": {
   "codemirror_mode": {
    "name": "ipython",
    "version": 2
   },
   "file_extension": ".py",
   "mimetype": "text/x-python",
   "name": "python",
   "nbconvert_exporter": "python",
   "pygments_lexer": "ipython2",
   "version": "2.7.14"
  }
 },
 "nbformat": 4,
 "nbformat_minor": 2
}
